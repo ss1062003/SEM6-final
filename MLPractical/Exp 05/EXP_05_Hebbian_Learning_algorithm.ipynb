{
  "nbformat": 4,
  "nbformat_minor": 0,
  "metadata": {
    "colab": {
      "private_outputs": true,
      "provenance": []
    },
    "kernelspec": {
      "name": "python3",
      "display_name": "Python 3"
    },
    "language_info": {
      "name": "python"
    }
  },
  "cells": [
    {
      "cell_type": "markdown",
      "source": [
        "# **Experiment No 5**\n",
        "\n",
        "\\\n",
        "**Name**    : Sachin Sapkale \\\n",
        "**Roll No** : 49 \\\n",
        "**Batch**   : A3 \\\n",
        "**Branch**  : TE-CSE(AIML)\n"
      ],
      "metadata": {
        "id": "pSJLQVgX1che"
      }
    },
    {
      "cell_type": "code",
      "execution_count": null,
      "metadata": {
        "id": "wny2DZwmNCQp"
      },
      "outputs": [],
      "source": [
        "import numpy as np"
      ]
    },
    {
      "cell_type": "code",
      "source": [
        "INPUTS = np.array([[1,1],[1,-1],[-1,1],[-1,-1]])   # Initial values\n",
        "outputs = np.array([1,-1,-1,-1])"
      ],
      "metadata": {
        "id": "T8Ps2H9vNrHK"
      },
      "execution_count": null,
      "outputs": []
    },
    {
      "cell_type": "code",
      "source": [
        "def hebb(outputs,weights,bias):    # Hebb Algorithm\n",
        "  for i in range(4):\n",
        "\n",
        "    weights[0] = weights[0] + (INPUTS[i][0] * outputs[i])\n",
        "    weights[1] = weights[1] + (INPUTS[i][1] * outputs[i])\n",
        "    bias = bias + (1 * outputs[i])\n",
        "\n",
        "    print(\"Weight updated: \" + str(weights[0]))\n",
        "    print(\"Weight updated: \" + str(weights[1]))\n",
        "    print(\"Bias updated: \" + str(bias))\n",
        "    print(\"-----------------------------------------\")\n",
        "\n",
        "  return weights, bias"
      ],
      "metadata": {
        "id": "LkctXOOdPF1a"
      },
      "execution_count": null,
      "outputs": []
    },
    {
      "cell_type": "code",
      "source": [
        "and_outputs = np.array([1,-1,-1,-1])\n",
        "weights = np.array([0.0,0.0])\n",
        "bias = 0"
      ],
      "metadata": {
        "id": "dyqYKGO4Qwuq"
      },
      "execution_count": null,
      "outputs": []
    },
    {
      "cell_type": "code",
      "source": [
        "returned_weights, returned_bias = hebb(and_outputs, weights, bias)"
      ],
      "metadata": {
        "id": "0EkuOFTuR__6"
      },
      "execution_count": null,
      "outputs": []
    }
  ]
}