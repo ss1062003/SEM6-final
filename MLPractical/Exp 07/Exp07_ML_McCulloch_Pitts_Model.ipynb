{
  "nbformat": 4,
  "nbformat_minor": 0,
  "metadata": {
    "colab": {
      "provenance": []
    },
    "kernelspec": {
      "name": "python3",
      "display_name": "Python 3"
    },
    "language_info": {
      "name": "python"
    }
  },
  "cells": [
    {
      "cell_type": "markdown",
      "source": [
        "# **Experiment No 7**\n",
        "\n",
        "**Date**: 19/03/24 \\\n",
        "\\\n",
        "**Name**    : Sachin Sapkale \\\n",
        "**Roll No** : 49 \\\n",
        "**Batch**   : A3 \\\n",
        "**Branch**  : TE-CSE(AIML)\n"
      ],
      "metadata": {
        "id": "L1-EqbqwDf40"
      }
    },
    {
      "cell_type": "markdown",
      "source": [
        "#**Aim** : Implement McCulloch Pitts Model."
      ],
      "metadata": {
        "id": "_84Shx5iCfzM"
      }
    },
    {
      "cell_type": "code",
      "source": [
        "import numpy as np\n",
        "input_table = np.array([\n",
        "    [0,0],\n",
        "    [0,1],\n",
        "    [1,0],\n",
        "    [1,1]\n",
        "])\n",
        "\n",
        "print(f'Input table:\\n {input_table}')"
      ],
      "metadata": {
        "colab": {
          "base_uri": "https://localhost:8080/"
        },
        "id": "-7v_BfYcAnNM",
        "outputId": "9d480bf1-4beb-4dfb-8613-cc500b45c241"
      },
      "execution_count": 1,
      "outputs": [
        {
          "output_type": "stream",
          "name": "stdout",
          "text": [
            "Input table:\n",
            " [[0 0]\n",
            " [0 1]\n",
            " [1 0]\n",
            " [1 1]]\n"
          ]
        }
      ]
    },
    {
      "cell_type": "code",
      "execution_count": 2,
      "metadata": {
        "colab": {
          "base_uri": "https://localhost:8080/"
        },
        "id": "utzEPW6T-TK5",
        "outputId": "b9d40192-7f73-4907-fad3-2bc575e00e2f"
      },
      "outputs": [
        {
          "output_type": "stream",
          "name": "stdout",
          "text": [
            "weights: [1 1]\n"
          ]
        }
      ],
      "source": [
        "weights = np.array([1,1])\n",
        "print(f'weights: {weights}')"
      ]
    },
    {
      "cell_type": "code",
      "source": [
        "dot_products = input_table @ weights\n",
        "print(f'Dot products: {dot_products}')"
      ],
      "metadata": {
        "colab": {
          "base_uri": "https://localhost:8080/"
        },
        "id": "PT_z44V8_CRM",
        "outputId": "95590270-e853-49a3-dd8c-25050faa0ca2"
      },
      "execution_count": 3,
      "outputs": [
        {
          "output_type": "stream",
          "name": "stdout",
          "text": [
            "Dot products: [0 1 1 2]\n"
          ]
        }
      ]
    },
    {
      "cell_type": "code",
      "source": [
        "def linear_threshold_gate(dot: int, T: float) -> int:\n",
        "  '''Returns the binary threshold output'''\n",
        "  if dot <= T:\n",
        "    return 1\n",
        "  else:\n",
        "    return 0"
      ],
      "metadata": {
        "id": "mE5LvTaO_ZkK"
      },
      "execution_count": 4,
      "outputs": []
    },
    {
      "cell_type": "code",
      "source": [
        "T = 1\n",
        "for i in range(0,4):\n",
        "  activation = linear_threshold_gate(dot_products[i], T)\n",
        "  print(f'Activation: {activation}')"
      ],
      "metadata": {
        "colab": {
          "base_uri": "https://localhost:8080/"
        },
        "id": "-mOUvkXBACfT",
        "outputId": "e1d5d22c-f3de-46ed-b438-3f8ae9cc44ee"
      },
      "execution_count": 5,
      "outputs": [
        {
          "output_type": "stream",
          "name": "stdout",
          "text": [
            "Activation: 1\n",
            "Activation: 1\n",
            "Activation: 1\n",
            "Activation: 0\n"
          ]
        }
      ]
    },
    {
      "cell_type": "markdown",
      "source": [
        "# **Conclusion**: We have successfully implemented McCulloch Pitts Model for deciding whether to go or to not go for a movie."
      ],
      "metadata": {
        "id": "OQ7HZ2myC0qa"
      }
    }
  ]
}