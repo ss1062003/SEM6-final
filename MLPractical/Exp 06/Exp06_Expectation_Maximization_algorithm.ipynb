{
  "cells": [
    {
      "cell_type": "code",
      "source": [
        "# Name      : Sachin Sapkale\n",
        "# Moodle Id : 21106026\n",
        "# Roll no   : 49\n",
        "# Batch     : A3\n",
        "# Branch    : CSE(AIML)"
      ],
      "metadata": {
        "id": "EqEIkMw05KnW"
      },
      "id": "EqEIkMw05KnW",
      "execution_count": null,
      "outputs": []
    },
    {
      "cell_type": "code",
      "execution_count": null,
      "id": "de0dd0bd",
      "metadata": {
        "id": "de0dd0bd"
      },
      "outputs": [],
      "source": [
        "import numpy as np\n",
        "import math\n",
        "x=np.array([[1,8,12,7]])\n",
        "nMissing=2"
      ]
    },
    {
      "cell_type": "code",
      "execution_count": null,
      "id": "e9d6a4ec",
      "metadata": {
        "id": "e9d6a4ec"
      },
      "outputs": [],
      "source": [
        "n=np.shape(x)[1]"
      ]
    },
    {
      "cell_type": "code",
      "execution_count": null,
      "id": "78161698",
      "metadata": {
        "colab": {
          "base_uri": "https://localhost:8080/"
        },
        "id": "78161698",
        "outputId": "7ca06c79-2700-44c8-8381-874e9717a73a"
      },
      "outputs": [
        {
          "output_type": "stream",
          "name": "stdout",
          "text": [
            "The training data:\n",
            " [[ 1  8 12  7]]\n",
            "The number of data present in x is: 4\n"
          ]
        }
      ],
      "source": [
        "print(\"The training data:\\n\",x)\n",
        "print(\"The number of data present in x is:\",n)"
      ]
    },
    {
      "cell_type": "code",
      "execution_count": null,
      "id": "744852d5",
      "metadata": {
        "id": "744852d5"
      },
      "outputs": [],
      "source": [
        "#the E step\n",
        "meanI=np.sum(x)/(n+nMissing)\n",
        "missingValue=np.round(meanI)"
      ]
    },
    {
      "cell_type": "code",
      "execution_count": null,
      "id": "1f7958b5",
      "metadata": {
        "colab": {
          "base_uri": "https://localhost:8080/"
        },
        "id": "1f7958b5",
        "outputId": "e78295ba-1ed0-4c1b-b4be-e8ff77e446ca"
      },
      "outputs": [
        {
          "output_type": "stream",
          "name": "stdout",
          "text": [
            "The value of existing data is: 4.666666666666667\n",
            "The missing values may be: 5.0\n"
          ]
        }
      ],
      "source": [
        "print(\"The value of existing data is:\",meanI)\n",
        "print(\"The missing values may be:\",missingValue)"
      ]
    },
    {
      "cell_type": "code",
      "execution_count": null,
      "id": "485a356e",
      "metadata": {
        "id": "485a356e"
      },
      "outputs": [],
      "source": [
        "meanPrevious=0"
      ]
    },
    {
      "cell_type": "code",
      "execution_count": null,
      "id": "ee7829c4",
      "metadata": {
        "colab": {
          "base_uri": "https://localhost:8080/"
        },
        "id": "ee7829c4",
        "outputId": "16f28e64-1c70-4559-e61b-882f0d87a169"
      },
      "outputs": [
        {
          "output_type": "stream",
          "name": "stdout",
          "text": [
            "The present mean is: 6.333\n",
            "The mean differnce: 6.333\n",
            "The present mean is: 6.778\n",
            "The mean differnce: 0.444\n",
            "The present mean is: 6.926\n",
            "The mean differnce: 0.148\n",
            "The present mean is: 6.975\n",
            "The mean differnce: 0.049\n",
            "The data with estimated outliers:\n",
            " [[ 1.          8.         12.          7.          6.97530864  6.97530864]]\n"
          ]
        }
      ],
      "source": [
        "while 1:\n",
        "    meanT=meanI+(missingValue*nMissing)/(n+nMissing)\n",
        "    missingValue=meanT\n",
        "    meanDifference=meanT-meanPrevious\n",
        "    meanPrevious=meanT\n",
        "    print(\"The present mean is:\",np.round(meanT,3))\n",
        "    print(\"The mean differnce:\",np.round(meanDifference,3))\n",
        "    if meanDifference<0.05:\n",
        "        break\n",
        "\n",
        "for i in range(nMissing):\n",
        "    x=np.append(x,np.array([[meanT]]),axis=1)\n",
        "print(\"The data with estimated outliers:\\n\",x)\n"
      ]
    },
    {
      "cell_type": "code",
      "execution_count": null,
      "id": "1cfb2449",
      "metadata": {
        "colab": {
          "base_uri": "https://localhost:8080/"
        },
        "id": "1cfb2449",
        "outputId": "2d0e4ad6-ea07-464a-9c05-a4d611dc382b"
      },
      "outputs": [
        {
          "output_type": "stream",
          "name": "stdout",
          "text": [
            "The mean is [[3 2 3 5 5 5 6]]\n",
            "The std is [[2 3 3 5 4 3 6]]\n",
            "3 2 -23.901\n",
            "2 3 -17.008\n",
            "3 3 -14.013\n",
            "5 5 -8.304\n",
            "5 4 -8.688\n",
            "5 3 -10.024\n",
            "6 6 -8.007\n"
          ]
        }
      ],
      "source": [
        "#the M step\n",
        "n=n+nMissing\n",
        "mu=np.array([[3,2,3,5,5,5,6]])\n",
        "sigma=np.array([[2,3,3,5,4,3,6]])\n",
        "print(\"The mean is\",mu)\n",
        "print(\"The std is\",sigma)\n",
        "for i in range(np.shape(mu)[1]):\n",
        "    logL=-np.sum(np.square(x-mu[0,i])/(2*np.square(sigma[0,i])))-(0.5*n*np.log10(2*math.pi))-n*np.log10(sigma[0,i])\n",
        "    print(mu[0,i],sigma[0,i],np.round(logL,3))"
      ]
    }
  ],
  "metadata": {
    "kernelspec": {
      "display_name": "Python 3 (ipykernel)",
      "language": "python",
      "name": "python3"
    },
    "language_info": {
      "codemirror_mode": {
        "name": "ipython",
        "version": 3
      },
      "file_extension": ".py",
      "mimetype": "text/x-python",
      "name": "python",
      "nbconvert_exporter": "python",
      "pygments_lexer": "ipython3",
      "version": "3.9.7"
    },
    "colab": {
      "provenance": []
    }
  },
  "nbformat": 4,
  "nbformat_minor": 5
}