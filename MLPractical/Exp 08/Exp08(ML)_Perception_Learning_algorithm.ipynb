{
  "nbformat": 4,
  "nbformat_minor": 0,
  "metadata": {
    "colab": {
      "provenance": []
    },
    "kernelspec": {
      "name": "python3",
      "display_name": "Python 3"
    },
    "language_info": {
      "name": "python"
    }
  },
  "cells": [
    {
      "cell_type": "markdown",
      "source": [
        "# **Experiment No 8**\n",
        "\n",
        "**Date**: 02/04/24 \\\n",
        "\\\n",
        "**Name**    : Sachin Sapkale \\\n",
        "**Roll No** : 49 \\\n",
        "**Batch**   : A3 \\\n",
        "**Branch**  : TE-CSE(AIML)"
      ],
      "metadata": {
        "id": "dRIVdr_Xamrs"
      }
    },
    {
      "cell_type": "markdown",
      "source": [
        "# **Aim:** Implement Perception Learning algorithm."
      ],
      "metadata": {
        "id": "Ug5uQU9YaRU1"
      }
    },
    {
      "cell_type": "code",
      "execution_count": 1,
      "metadata": {
        "id": "BdrdSGpeLdSz"
      },
      "outputs": [],
      "source": [
        "# Simple neuron with 3 input neuron 1 output neuron"
      ]
    },
    {
      "cell_type": "code",
      "source": [
        "inputs = [1.2,5.1,2.1]\n",
        "weights = [3.1,2.1,8.7]\n",
        "bias = 3"
      ],
      "metadata": {
        "id": "A6sPHOlQMlGX"
      },
      "execution_count": 2,
      "outputs": []
    },
    {
      "cell_type": "code",
      "source": [
        "output = inputs[0]*weights[0]+inputs[1]*weights[1]+inputs[2]*weights[2]+bias\n",
        "print(output)"
      ],
      "metadata": {
        "colab": {
          "base_uri": "https://localhost:8080/"
        },
        "id": "eIup-HRCM8Nd",
        "outputId": "205d50bf-b0b0-468c-d1bc-184db1eb4962"
      },
      "execution_count": 3,
      "outputs": [
        {
          "output_type": "stream",
          "name": "stdout",
          "text": [
            "35.7\n"
          ]
        }
      ]
    },
    {
      "cell_type": "code",
      "source": [
        "# Simple neuron with 4 input neuron 1 output neuron"
      ],
      "metadata": {
        "id": "_zcKz8SDNdiA"
      },
      "execution_count": 4,
      "outputs": []
    },
    {
      "cell_type": "code",
      "source": [
        "inputs = [1,2,3,2.5]\n",
        "weights = [0.2,0.8,-0.5,1.0]\n",
        "bias = 2"
      ],
      "metadata": {
        "id": "NOiTik9CNkQ9"
      },
      "execution_count": 5,
      "outputs": []
    },
    {
      "cell_type": "code",
      "source": [
        "import numpy as np\n",
        "output = inputs[0]*weights[0]+inputs[1]*weights[1]+inputs[2]*weights[2]+inputs[3]*weights[3]+bias\n",
        "print(output)\n",
        "\n",
        "#output = np.dot(weights,inputs)+bias\n",
        "#print(output)"
      ],
      "metadata": {
        "colab": {
          "base_uri": "https://localhost:8080/"
        },
        "id": "3j_ezhXrN6ql",
        "outputId": "18b5c689-73cd-40b6-d4a8-b19752070f7b"
      },
      "execution_count": 6,
      "outputs": [
        {
          "output_type": "stream",
          "name": "stdout",
          "text": [
            "4.8\n"
          ]
        }
      ]
    },
    {
      "cell_type": "code",
      "source": [
        "# 4 input neuron 3 neuron"
      ],
      "metadata": {
        "id": "u6uZdF3LOFQ0"
      },
      "execution_count": 7,
      "outputs": []
    },
    {
      "cell_type": "code",
      "source": [
        "inputs = [1,2,3,2.5]\n",
        "weights1 = [0.2,0.8,-0.5,1.0]\n",
        "weights2 = [0.5,-0.91,0.26,-0.5]\n",
        "weights3 = [-0.26,-0.27,0.17,0.87]\n",
        "bias1 = 2\n",
        "bias2 = 3\n",
        "bias3 = 0.5"
      ],
      "metadata": {
        "id": "l9jcLcvMOS12"
      },
      "execution_count": 8,
      "outputs": []
    },
    {
      "cell_type": "code",
      "source": [
        "output = [inputs[0]*weights1[0]+inputs[1]*weights1[1]+inputs[2]*weights1[2]+inputs[3]*weights1[3]+bias1,\n",
        "          inputs[0]*weights2[0]+inputs[1]*weights2[1]+inputs[2]*weights2[2]+inputs[3]*weights2[3]+bias2,\n",
        "          inputs[0]*weights3[0]+inputs[1]*weights3[1]+inputs[2]*weights3[2]+inputs[3]*weights3[3]+bias3]"
      ],
      "metadata": {
        "id": "zLDpZSqvPNo2"
      },
      "execution_count": 9,
      "outputs": []
    },
    {
      "cell_type": "code",
      "source": [
        "print(output)"
      ],
      "metadata": {
        "colab": {
          "base_uri": "https://localhost:8080/"
        },
        "id": "T9BQbqylPta9",
        "outputId": "51a98ee3-fed0-45cd-f356-3e34a679ebc1"
      },
      "execution_count": 10,
      "outputs": [
        {
          "output_type": "stream",
          "name": "stdout",
          "text": [
            "[4.8, 1.21, 2.385]\n"
          ]
        }
      ]
    },
    {
      "cell_type": "code",
      "source": [
        "inputs = [1,2,3,2.5]\n",
        "weights = [[0.2,0.8,-0.5,1.0],[0.5,-0.91,0.26,-0.5],[-0.26,-0.27,0.17,0.87]]\n",
        "biases = [2,3,0.5]"
      ],
      "metadata": {
        "id": "YLfBAC4OPzcG"
      },
      "execution_count": 11,
      "outputs": []
    },
    {
      "cell_type": "code",
      "source": [
        "output = np.dot(weights,inputs)+biases\n",
        "print(output)"
      ],
      "metadata": {
        "colab": {
          "base_uri": "https://localhost:8080/"
        },
        "id": "vYvlP4tyQawW",
        "outputId": "ec0c3a8f-0d1c-4f12-f86b-d8019d4898d0"
      },
      "execution_count": 12,
      "outputs": [
        {
          "output_type": "stream",
          "name": "stdout",
          "text": [
            "[4.8   1.21  2.385]\n"
          ]
        }
      ]
    },
    {
      "cell_type": "code",
      "source": [
        "# Add more layer"
      ],
      "metadata": {
        "id": "JCAPRJ2nQqF1"
      },
      "execution_count": 13,
      "outputs": []
    },
    {
      "cell_type": "code",
      "source": [
        "inputs = [1,2,3,2.5]\n",
        "weights = [[0.2,0.8,-0.5,1.0],[0.5,-0.91,0.26,-0.5],[-0.26,-0.27,0.17,0.87]]\n",
        "biases = [2,3,0.5]\n",
        "weights2 = [[0.1,0.14,0.5],[0.5,0.12,0.33],[0.44,0.73,0.13]]\n",
        "biases2 = [1,2,-0.5]"
      ],
      "metadata": {
        "id": "hJ1PDGvMQvxm"
      },
      "execution_count": 14,
      "outputs": []
    },
    {
      "cell_type": "code",
      "source": [
        "layer1_outputs = np.dot(weights,inputs)+biases\n",
        "layer2_outputs = np.dot(layer1_outputs,weights2)+biases2"
      ],
      "metadata": {
        "id": "HRM0L4UHRWfF"
      },
      "execution_count": 15,
      "outputs": []
    },
    {
      "cell_type": "code",
      "source": [
        "print(layer2_outputs)"
      ],
      "metadata": {
        "colab": {
          "base_uri": "https://localhost:8080/"
        },
        "id": "EHFyvhmkR208",
        "outputId": "29f999a6-a84f-4466-8657-97e986fec599"
      },
      "execution_count": 16,
      "outputs": [
        {
          "output_type": "stream",
          "name": "stdout",
          "text": [
            "[3.1344  4.55825 2.60935]\n"
          ]
        }
      ]
    },
    {
      "cell_type": "code",
      "source": [
        "# Activation function\n",
        "inputs = [1.2,5.1,2.1]\n",
        "weights = [3.1,2.1,8.7]\n",
        "bias = 3"
      ],
      "metadata": {
        "id": "VkTDdiA9R9oE"
      },
      "execution_count": 17,
      "outputs": []
    },
    {
      "cell_type": "code",
      "source": [
        "output = inputs[0]*weights[0]+inputs[1]*weights[1]+inputs[2]*weights[2]+bias\n",
        "print(output)"
      ],
      "metadata": {
        "colab": {
          "base_uri": "https://localhost:8080/"
        },
        "id": "PHLi8x2bSkhY",
        "outputId": "874cdd2f-e6d0-4764-f68b-5510a4f472d3"
      },
      "execution_count": 18,
      "outputs": [
        {
          "output_type": "stream",
          "name": "stdout",
          "text": [
            "35.7\n"
          ]
        }
      ]
    },
    {
      "cell_type": "code",
      "source": [
        "import math\n",
        "def sigmoid(x):\n",
        "  return 1 / (1 + math.exp(-x))\n",
        "\n",
        "output1 = sigmoid(output)\n",
        "print(output1)"
      ],
      "metadata": {
        "colab": {
          "base_uri": "https://localhost:8080/"
        },
        "id": "szlmRmvFSqpL",
        "outputId": "d3d8f1c5-5fbc-4179-d345-448a6334ef9a"
      },
      "execution_count": 19,
      "outputs": [
        {
          "output_type": "stream",
          "name": "stdout",
          "text": [
            "0.9999999999999998\n"
          ]
        }
      ]
    },
    {
      "cell_type": "code",
      "source": [
        "def tanh(x):\n",
        "  return (math.exp(x) - math.exp(-x)) / (math.exp(x) + math.exp(-x))\n",
        "\n",
        "output2 = tanh(output)\n",
        "print(output2)"
      ],
      "metadata": {
        "colab": {
          "base_uri": "https://localhost:8080/"
        },
        "id": "0o1vCHeuTOKs",
        "outputId": "ad02b293-a66a-4b53-ed73-53519029cb75"
      },
      "execution_count": 20,
      "outputs": [
        {
          "output_type": "stream",
          "name": "stdout",
          "text": [
            "1.0\n"
          ]
        }
      ]
    },
    {
      "cell_type": "code",
      "source": [
        "def relu(x):\n",
        "  return max(0,x)\n",
        "\n",
        "output3 = relu(output)\n",
        "print(output3)"
      ],
      "metadata": {
        "colab": {
          "base_uri": "https://localhost:8080/"
        },
        "id": "1_d3xe1fT4F3",
        "outputId": "aa46b301-d1bf-4e3c-c18f-d3e2b07090ff"
      },
      "execution_count": 21,
      "outputs": [
        {
          "output_type": "stream",
          "name": "stdout",
          "text": [
            "35.7\n"
          ]
        }
      ]
    },
    {
      "cell_type": "markdown",
      "source": [
        "# **Conclusion:**We have successfully implemented simple perceptron with Relu, tanh and sigmoid activation function"
      ],
      "metadata": {
        "id": "A64Puqayab8u"
      }
    }
  ]
}